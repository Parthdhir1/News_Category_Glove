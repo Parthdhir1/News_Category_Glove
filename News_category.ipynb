{
  "nbformat": 4,
  "nbformat_minor": 0,
  "metadata": {
    "colab": {
      "name": "News_category.ipynb",
      "provenance": [],
      "machine_shape": "hm"
    },
    "kernelspec": {
      "name": "python3",
      "display_name": "Python 3"
    },
    "accelerator": "GPU"
  },
  "cells": [
    {
      "cell_type": "code",
      "metadata": {
        "id": "l3PfubLxZ0md",
        "colab_type": "code",
        "colab": {}
      },
      "source": [
        "import numpy as np\n",
        "import pandas as pd"
      ],
      "execution_count": 0,
      "outputs": []
    },
    {
      "cell_type": "code",
      "metadata": {
        "id": "It65gje0arRu",
        "colab_type": "code",
        "colab": {}
      },
      "source": [
        "df= pd.read_json('/content/drive/My Drive/Projects/News-DataSet/News_Category_Dataset.json',lines=True)"
      ],
      "execution_count": 0,
      "outputs": []
    },
    {
      "cell_type": "code",
      "metadata": {
        "id": "ND0_j4jeaznF",
        "colab_type": "code",
        "colab": {
          "base_uri": "https://localhost:8080/",
          "height": 202
        },
        "outputId": "90175a25-c092-48be-e285-ee4347326eab"
      },
      "source": [
        "df.head()"
      ],
      "execution_count": 3,
      "outputs": [
        {
          "output_type": "execute_result",
          "data": {
            "text/html": [
              "<div>\n",
              "<style scoped>\n",
              "    .dataframe tbody tr th:only-of-type {\n",
              "        vertical-align: middle;\n",
              "    }\n",
              "\n",
              "    .dataframe tbody tr th {\n",
              "        vertical-align: top;\n",
              "    }\n",
              "\n",
              "    .dataframe thead th {\n",
              "        text-align: right;\n",
              "    }\n",
              "</style>\n",
              "<table border=\"1\" class=\"dataframe\">\n",
              "  <thead>\n",
              "    <tr style=\"text-align: right;\">\n",
              "      <th></th>\n",
              "      <th>short_description</th>\n",
              "      <th>headline</th>\n",
              "      <th>date</th>\n",
              "      <th>link</th>\n",
              "      <th>authors</th>\n",
              "      <th>category</th>\n",
              "    </tr>\n",
              "  </thead>\n",
              "  <tbody>\n",
              "    <tr>\n",
              "      <th>0</th>\n",
              "      <td>She left her husband. He killed their children...</td>\n",
              "      <td>There Were 2 Mass Shootings In Texas Last Week...</td>\n",
              "      <td>2018-05-26</td>\n",
              "      <td>https://www.huffingtonpost.com/entry/texas-ama...</td>\n",
              "      <td>Melissa Jeltsen</td>\n",
              "      <td>CRIME</td>\n",
              "    </tr>\n",
              "    <tr>\n",
              "      <th>1</th>\n",
              "      <td>Of course it has a song.</td>\n",
              "      <td>Will Smith Joins Diplo And Nicky Jam For The 2...</td>\n",
              "      <td>2018-05-26</td>\n",
              "      <td>https://www.huffingtonpost.com/entry/will-smit...</td>\n",
              "      <td>Andy McDonald</td>\n",
              "      <td>ENTERTAINMENT</td>\n",
              "    </tr>\n",
              "    <tr>\n",
              "      <th>2</th>\n",
              "      <td>The actor and his longtime girlfriend Anna Ebe...</td>\n",
              "      <td>Hugh Grant Marries For The First Time At Age 57</td>\n",
              "      <td>2018-05-26</td>\n",
              "      <td>https://www.huffingtonpost.com/entry/hugh-gran...</td>\n",
              "      <td>Ron Dicker</td>\n",
              "      <td>ENTERTAINMENT</td>\n",
              "    </tr>\n",
              "    <tr>\n",
              "      <th>3</th>\n",
              "      <td>The actor gives Dems an ass-kicking for not fi...</td>\n",
              "      <td>Jim Carrey Blasts 'Castrato' Adam Schiff And D...</td>\n",
              "      <td>2018-05-26</td>\n",
              "      <td>https://www.huffingtonpost.com/entry/jim-carre...</td>\n",
              "      <td>Ron Dicker</td>\n",
              "      <td>ENTERTAINMENT</td>\n",
              "    </tr>\n",
              "    <tr>\n",
              "      <th>4</th>\n",
              "      <td>The \"Dietland\" actress said using the bags is ...</td>\n",
              "      <td>Julianna Margulies Uses Donald Trump Poop Bags...</td>\n",
              "      <td>2018-05-26</td>\n",
              "      <td>https://www.huffingtonpost.com/entry/julianna-...</td>\n",
              "      <td>Ron Dicker</td>\n",
              "      <td>ENTERTAINMENT</td>\n",
              "    </tr>\n",
              "  </tbody>\n",
              "</table>\n",
              "</div>"
            ],
            "text/plain": [
              "                                   short_description  ...       category\n",
              "0  She left her husband. He killed their children...  ...          CRIME\n",
              "1                           Of course it has a song.  ...  ENTERTAINMENT\n",
              "2  The actor and his longtime girlfriend Anna Ebe...  ...  ENTERTAINMENT\n",
              "3  The actor gives Dems an ass-kicking for not fi...  ...  ENTERTAINMENT\n",
              "4  The \"Dietland\" actress said using the bags is ...  ...  ENTERTAINMENT\n",
              "\n",
              "[5 rows x 6 columns]"
            ]
          },
          "metadata": {
            "tags": []
          },
          "execution_count": 3
        }
      ]
    },
    {
      "cell_type": "code",
      "metadata": {
        "id": "x8B6tBbFbJJr",
        "colab_type": "code",
        "colab": {
          "base_uri": "https://localhost:8080/",
          "height": 34
        },
        "outputId": "05cf8cbc-bb0e-4233-e84a-ed62eef4e060"
      },
      "source": [
        "df.short_description[0]"
      ],
      "execution_count": 4,
      "outputs": [
        {
          "output_type": "execute_result",
          "data": {
            "text/plain": [
              "'She left her husband. He killed their children. Just another day in America.'"
            ]
          },
          "metadata": {
            "tags": []
          },
          "execution_count": 4
        }
      ]
    },
    {
      "cell_type": "code",
      "metadata": {
        "id": "H47PsQCJbNef",
        "colab_type": "code",
        "colab": {}
      },
      "source": [
        ""
      ],
      "execution_count": 0,
      "outputs": []
    },
    {
      "cell_type": "code",
      "metadata": {
        "id": "pESWUs_LbrI7",
        "colab_type": "code",
        "colab": {}
      },
      "source": [
        ""
      ],
      "execution_count": 0,
      "outputs": []
    },
    {
      "cell_type": "code",
      "metadata": {
        "id": "X9AjKrj6bsFq",
        "colab_type": "code",
        "colab": {
          "base_uri": "https://localhost:8080/",
          "height": 34
        },
        "outputId": "60638d4f-d1f9-4c0a-f803-d297e70f8d48"
      },
      "source": [
        "df.category.value_counts()\n",
        "print('total number of different categories we have',df.category.value_counts().count())"
      ],
      "execution_count": 5,
      "outputs": [
        {
          "output_type": "stream",
          "text": [
            "total number of different categories we have 31\n"
          ],
          "name": "stdout"
        }
      ]
    },
    {
      "cell_type": "code",
      "metadata": {
        "id": "8yRcb5xkcVwa",
        "colab_type": "code",
        "colab": {}
      },
      "source": [
        "##Now it's time for the text cleaning \n",
        "import re\n",
        "import nltk"
      ],
      "execution_count": 0,
      "outputs": []
    },
    {
      "cell_type": "code",
      "metadata": {
        "id": "yFnGLZRFdoU8",
        "colab_type": "code",
        "colab": {}
      },
      "source": [
        "#stop_words= stopwords.words('english')\n",
        "#stemmer= SnowballStemmer('english')"
      ],
      "execution_count": 0,
      "outputs": []
    },
    {
      "cell_type": "code",
      "metadata": {
        "id": "MEJRNTXceAGE",
        "colab_type": "code",
        "colab": {}
      },
      "source": [
        "#def preprocess(text, stem=False):\n",
        "#    # Remove link,user and special characters\n",
        "#    text = re.sub(TEXT_CLEANING_RE, ' ', str(text).lower()).strip()\n",
        "#    tokens = []\n",
        "#    for token in text.split():\n",
        "#        if token not in stop_words:\n",
        "#            if stem:\n",
        "#                tokens.append(stemmer.stem(token))\n",
        "#            else:\n",
        "#                tokens.append(token)\n",
        "#    return \" \".join(tokens)\n",
        "#df.short_description = df.short_description.apply(lambda x: preprocess(x))"
      ],
      "execution_count": 0,
      "outputs": []
    },
    {
      "cell_type": "code",
      "metadata": {
        "id": "6KeexZXpfS2S",
        "colab_type": "code",
        "colab": {}
      },
      "source": [
        "#df['short_description'][0]"
      ],
      "execution_count": 0,
      "outputs": []
    },
    {
      "cell_type": "code",
      "metadata": {
        "id": "-dV5nhPFflRz",
        "colab_type": "code",
        "colab": {}
      },
      "source": [
        "##Now we are tokenising the text but before that\n",
        "\n",
        "# as shown above, THE WORLDPOST and WORLDPOST should be the same category, so merge them.\n",
        "\n",
        "df.category = df.category.map(lambda x: \"WORLDPOST\" if x == \"THE WORLDPOST\" else x)\n",
        "\n"
      ],
      "execution_count": 0,
      "outputs": []
    },
    {
      "cell_type": "code",
      "metadata": {
        "id": "IiAZmqihhlRF",
        "colab_type": "code",
        "colab": {}
      },
      "source": [
        "#### It's better to add Short desciption and headline. It makes more sense\n",
        "\n",
        "df['text']=df['headline'] + '. ' +df['short_description'] "
      ],
      "execution_count": 0,
      "outputs": []
    },
    {
      "cell_type": "code",
      "metadata": {
        "id": "O17iSF5RiB4b",
        "colab_type": "code",
        "colab": {
          "base_uri": "https://localhost:8080/",
          "height": 34
        },
        "outputId": "5562bb8d-be2b-42a1-e7c1-cc7b229d2064"
      },
      "source": [
        "df['text'][0]"
      ],
      "execution_count": 12,
      "outputs": [
        {
          "output_type": "execute_result",
          "data": {
            "text/plain": [
              "'There Were 2 Mass Shootings In Texas Last Week, But Only 1 On TV. She left her husband. He killed their children. Just another day in America.'"
            ]
          },
          "metadata": {
            "tags": []
          },
          "execution_count": 12
        }
      ]
    },
    {
      "cell_type": "code",
      "metadata": {
        "id": "BzX6ZitkiEuu",
        "colab_type": "code",
        "colab": {}
      },
      "source": [
        "#tokenizing\n",
        "from keras_preprocessing.text import Tokenizer\n",
        "tokenizer= Tokenizer()\n",
        "tokenizer.fit_on_texts(df['text'])\n"
      ],
      "execution_count": 0,
      "outputs": []
    },
    {
      "cell_type": "code",
      "metadata": {
        "id": "5QnD9fw-iwVO",
        "colab_type": "code",
        "colab": {}
      },
      "source": [
        "X= tokenizer.texts_to_sequences(df.text)\n",
        "df['words']=X"
      ],
      "execution_count": 0,
      "outputs": []
    },
    {
      "cell_type": "code",
      "metadata": {
        "id": "_-vVWK5JjD4T",
        "colab_type": "code",
        "colab": {
          "base_uri": "https://localhost:8080/",
          "height": 485
        },
        "outputId": "12d6d115-f102-480c-af6f-47ebe3f72750"
      },
      "source": [
        "df['words'][0]"
      ],
      "execution_count": 15,
      "outputs": [
        {
          "output_type": "execute_result",
          "data": {
            "text/plain": [
              "[87,\n",
              " 95,\n",
              " 260,\n",
              " 917,\n",
              " 2154,\n",
              " 6,\n",
              " 453,\n",
              " 133,\n",
              " 119,\n",
              " 30,\n",
              " 120,\n",
              " 225,\n",
              " 9,\n",
              " 392,\n",
              " 89,\n",
              " 424,\n",
              " 50,\n",
              " 1003,\n",
              " 38,\n",
              " 323,\n",
              " 44,\n",
              " 202,\n",
              " 51,\n",
              " 185,\n",
              " 73,\n",
              " 6,\n",
              " 168]"
            ]
          },
          "metadata": {
            "tags": []
          },
          "execution_count": 15
        }
      ]
    },
    {
      "cell_type": "code",
      "metadata": {
        "id": "DluT5bGSjGiE",
        "colab_type": "code",
        "colab": {
          "base_uri": "https://localhost:8080/",
          "height": 34
        },
        "outputId": "009eb515-ce68-4064-e161-af456245489c"
      },
      "source": [
        "len(df['words'])"
      ],
      "execution_count": 16,
      "outputs": [
        {
          "output_type": "execute_result",
          "data": {
            "text/plain": [
              "124989"
            ]
          },
          "metadata": {
            "tags": []
          },
          "execution_count": 16
        }
      ]
    },
    {
      "cell_type": "code",
      "metadata": {
        "id": "U3IH32YFjSlP",
        "colab_type": "code",
        "colab": {}
      },
      "source": [
        "df['words_length']= df.words.apply(lambda i:len(i))\n",
        "\n",
        "df.words_length[0]\n",
        "\n",
        "df= df[df['words_length']>=5]"
      ],
      "execution_count": 0,
      "outputs": []
    },
    {
      "cell_type": "code",
      "metadata": {
        "id": "ggnWMimnkCFq",
        "colab_type": "code",
        "colab": {
          "base_uri": "https://localhost:8080/",
          "height": 173
        },
        "outputId": "627cace2-5e3f-41cb-dc92-a8b64adfae0d"
      },
      "source": [
        "df['words_length'].describe()"
      ],
      "execution_count": 18,
      "outputs": [
        {
          "output_type": "execute_result",
          "data": {
            "text/plain": [
              "count    124068.000000\n",
              "mean         26.128422\n",
              "std          14.366390\n",
              "min           5.000000\n",
              "25%          17.000000\n",
              "50%          24.000000\n",
              "75%          32.000000\n",
              "max         248.000000\n",
              "Name: words_length, dtype: float64"
            ]
          },
          "metadata": {
            "tags": []
          },
          "execution_count": 18
        }
      ]
    },
    {
      "cell_type": "code",
      "metadata": {
        "id": "k60gGKvBkQgq",
        "colab_type": "code",
        "colab": {
          "base_uri": "https://localhost:8080/",
          "height": 34
        },
        "outputId": "c06e4a5e-fa49-4781-ff68-c6605fd21447"
      },
      "source": [
        "####working on pad_sequences\n",
        "from keras.preprocessing import sequence\n",
        "max_length= 248\n",
        "X=list(sequence.pad_sequences(df.words,maxlen=max_length,padding='post'))"
      ],
      "execution_count": 19,
      "outputs": [
        {
          "output_type": "stream",
          "text": [
            "Using TensorFlow backend.\n"
          ],
          "name": "stderr"
        }
      ]
    },
    {
      "cell_type": "code",
      "metadata": {
        "id": "Vgx1et43w-kt",
        "colab_type": "code",
        "colab": {
          "base_uri": "https://localhost:8080/",
          "height": 416
        },
        "outputId": "e7773489-9140-437f-b9e8-1f1f26b1d95c"
      },
      "source": [
        "X[0]"
      ],
      "execution_count": 20,
      "outputs": [
        {
          "output_type": "execute_result",
          "data": {
            "text/plain": [
              "array([  87,   95,  260,  917, 2154,    6,  453,  133,  119,   30,  120,\n",
              "        225,    9,  392,   89,  424,   50, 1003,   38,  323,   44,  202,\n",
              "         51,  185,   73,    6,  168,    0,    0,    0,    0,    0,    0,\n",
              "          0,    0,    0,    0,    0,    0,    0,    0,    0,    0,    0,\n",
              "          0,    0,    0,    0,    0,    0,    0,    0,    0,    0,    0,\n",
              "          0,    0,    0,    0,    0,    0,    0,    0,    0,    0,    0,\n",
              "          0,    0,    0,    0,    0,    0,    0,    0,    0,    0,    0,\n",
              "          0,    0,    0,    0,    0,    0,    0,    0,    0,    0,    0,\n",
              "          0,    0,    0,    0,    0,    0,    0,    0,    0,    0,    0,\n",
              "          0,    0,    0,    0,    0,    0,    0,    0,    0,    0,    0,\n",
              "          0,    0,    0,    0,    0,    0,    0,    0,    0,    0,    0,\n",
              "          0,    0,    0,    0,    0,    0,    0,    0,    0,    0,    0,\n",
              "          0,    0,    0,    0,    0,    0,    0,    0,    0,    0,    0,\n",
              "          0,    0,    0,    0,    0,    0,    0,    0,    0,    0,    0,\n",
              "          0,    0,    0,    0,    0,    0,    0,    0,    0,    0,    0,\n",
              "          0,    0,    0,    0,    0,    0,    0,    0,    0,    0,    0,\n",
              "          0,    0,    0,    0,    0,    0,    0,    0,    0,    0,    0,\n",
              "          0,    0,    0,    0,    0,    0,    0,    0,    0,    0,    0,\n",
              "          0,    0,    0,    0,    0,    0,    0,    0,    0,    0,    0,\n",
              "          0,    0,    0,    0,    0,    0,    0,    0,    0,    0,    0,\n",
              "          0,    0,    0,    0,    0,    0,    0,    0,    0,    0,    0,\n",
              "          0,    0,    0,    0,    0,    0,    0,    0,    0,    0,    0,\n",
              "          0,    0,    0,    0,    0,    0], dtype=int32)"
            ]
          },
          "metadata": {
            "tags": []
          },
          "execution_count": 20
        }
      ]
    },
    {
      "cell_type": "code",
      "metadata": {
        "id": "CZ-TjutWxR9L",
        "colab_type": "code",
        "colab": {}
      },
      "source": [
        "categories = df.groupby('category').size().index.tolist()\n"
      ],
      "execution_count": 0,
      "outputs": []
    },
    {
      "cell_type": "code",
      "metadata": {
        "id": "7BD4Ep6S14XL",
        "colab_type": "code",
        "colab": {
          "base_uri": "https://localhost:8080/",
          "height": 34
        },
        "outputId": "db9c2317-9b7d-43bd-8756-a441274a230f"
      },
      "source": [
        "len(categories)"
      ],
      "execution_count": 22,
      "outputs": [
        {
          "output_type": "execute_result",
          "data": {
            "text/plain": [
              "30"
            ]
          },
          "metadata": {
            "tags": []
          },
          "execution_count": 22
        }
      ]
    },
    {
      "cell_type": "code",
      "metadata": {
        "id": "DQFvHbzV15H9",
        "colab_type": "code",
        "colab": {}
      },
      "source": [
        "\n",
        "categories = df.groupby('category').size().index.tolist()\n",
        "category_int = {}\n",
        "int_category = {}\n",
        "for i, k in enumerate(categories):\n",
        "    category_int.update({k:i})\n",
        "    int_category.update({i:k})\n",
        "\n",
        "df['c2id'] = df['category'].apply(lambda x: category_int[x])"
      ],
      "execution_count": 0,
      "outputs": []
    },
    {
      "cell_type": "code",
      "metadata": {
        "id": "Lk1Fn2U4__lg",
        "colab_type": "code",
        "colab": {}
      },
      "source": [
        "word_index=tokenizer.word_index\n",
        "###glove embedding\n",
        "\n",
        "Eembedding_Size=200\n",
        "glove= open('/content/drive/My Drive/pretrained-models/glove.6B.200d.txt')\n",
        "embeddings_index = {}\n",
        "\n",
        "for i in glove:\n",
        "  values= i.split()\n",
        "  word=values[0]\n",
        "  coefs= np.asarray(values[1:],dtype='float32')\n",
        "  embeddings_index[word]=coefs\n",
        "glove.close() \n"
      ],
      "execution_count": 0,
      "outputs": []
    },
    {
      "cell_type": "code",
      "metadata": {
        "id": "6XS1UOgTK1u_",
        "colab_type": "code",
        "colab": {
          "base_uri": "https://localhost:8080/",
          "height": 52
        },
        "outputId": "7b34fb69-bcaf-4a3a-f61f-a8bcfa6b2050"
      },
      "source": [
        "print('Found %s unique tokens.' % len(word_index))\n",
        "print('Total %s word vectors.' % len(embeddings_index))"
      ],
      "execution_count": 25,
      "outputs": [
        {
          "output_type": "stream",
          "text": [
            "Found 86627 unique tokens.\n",
            "Total 400000 word vectors.\n"
          ],
          "name": "stdout"
        }
      ]
    },
    {
      "cell_type": "code",
      "metadata": {
        "id": "SfptW7PxLSgt",
        "colab_type": "code",
        "colab": {
          "base_uri": "https://localhost:8080/",
          "height": 34
        },
        "outputId": "f9804bef-9d2d-477b-9513-e9c0a8fda5ad"
      },
      "source": [
        "embedding_matrix= np.zeros((len(word_index)+1,Eembedding_Size))\n",
        "for word, i in word_index.items():\n",
        "  embedding_vector=embeddings_index.get(word)\n",
        "  if embedding_vector is not None:\n",
        "    embedding_matrix[i]=embedding_vector\n",
        "print(embedding_matrix.shape)\n"
      ],
      "execution_count": 26,
      "outputs": [
        {
          "output_type": "stream",
          "text": [
            "(86628, 200)\n"
          ],
          "name": "stdout"
        }
      ]
    },
    {
      "cell_type": "code",
      "metadata": {
        "id": "0__oapN1MBg8",
        "colab_type": "code",
        "colab": {}
      },
      "source": [
        "from keras.initializers import Constant\n",
        "\n",
        "from keras.layers import Embedding\n",
        "embedding_layer = Embedding(len(word_index)+1,\n",
        "                            Eembedding_Size,\n",
        "                            embeddings_initializer=Constant(embedding_matrix),\n",
        "                            input_length=max_length,\n",
        "                            trainable=False)"
      ],
      "execution_count": 0,
      "outputs": []
    },
    {
      "cell_type": "code",
      "metadata": {
        "id": "Zh6-sukCSwQa",
        "colab_type": "code",
        "colab": {}
      },
      "source": [
        "from keras.utils import np_utils\n",
        "from sklearn.model_selection import train_test_split\n",
        "X = np.array(X)\n",
        "\n",
        "Y=np_utils.to_categorical(list(df.c2id))\n",
        "\n",
        "seeds=15\n",
        "x_train, x_val, y_train, y_val = train_test_split(X, Y, test_size=0.2, random_state=15)"
      ],
      "execution_count": 0,
      "outputs": []
    },
    {
      "cell_type": "code",
      "metadata": {
        "id": "tAEM9l70V09G",
        "colab_type": "code",
        "colab": {}
      },
      "source": [
        "from keras.layers import Bidirectional\n",
        "from keras.models import Sequential\n",
        "from keras.layers import Dropout, LSTM, Dense, Conv1D\n",
        "model = Sequential()\n",
        "model.add(embedding_layer)\n",
        "model.add(Dropout(0.5))\n",
        "model.add(Bidirectional(LSTM(100, dropout=0.2, recurrent_dropout=0.2)))\n",
        "model.add(Dense(30, activation='softmax'))\n",
        "\n",
        "\n",
        "model.compile(loss='categorical_crossentropy',\n",
        "              optimizer=\"adam\",\n",
        "              metrics=['accuracy'])"
      ],
      "execution_count": 0,
      "outputs": []
    },
    {
      "cell_type": "code",
      "metadata": {
        "id": "vD-ZGp4wWNl4",
        "colab_type": "code",
        "colab": {
          "base_uri": "https://localhost:8080/",
          "height": 294
        },
        "outputId": "690fa39d-a39d-4b61-d4a9-9779fa6cdc38"
      },
      "source": [
        "model.summary()"
      ],
      "execution_count": 30,
      "outputs": [
        {
          "output_type": "stream",
          "text": [
            "Model: \"sequential_1\"\n",
            "_________________________________________________________________\n",
            "Layer (type)                 Output Shape              Param #   \n",
            "=================================================================\n",
            "embedding_1 (Embedding)      (None, 248, 200)          17325600  \n",
            "_________________________________________________________________\n",
            "dropout_1 (Dropout)          (None, 248, 200)          0         \n",
            "_________________________________________________________________\n",
            "bidirectional_1 (Bidirection (None, 200)               240800    \n",
            "_________________________________________________________________\n",
            "dense_1 (Dense)              (None, 30)                6030      \n",
            "=================================================================\n",
            "Total params: 17,572,430\n",
            "Trainable params: 246,830\n",
            "Non-trainable params: 17,325,600\n",
            "_________________________________________________________________\n"
          ],
          "name": "stdout"
        }
      ]
    },
    {
      "cell_type": "code",
      "metadata": {
        "id": "FcqxTAwqXrWm",
        "colab_type": "code",
        "colab": {
          "base_uri": "https://localhost:8080/",
          "height": 381
        },
        "outputId": "b92a2a17-a8e5-4193-bcbf-3b4b223985ba"
      },
      "source": [
        "from keras.callbacks import ReduceLROnPlateau, EarlyStopping\n",
        "\n",
        "##callbacks\n",
        "callbacks = [ ReduceLROnPlateau(monitor='val_loss', patience=5, cooldown=0),\n",
        "              EarlyStopping(monitor='val_accuracy', min_delta=1e-4, patience=5)]\n",
        "\n",
        "\n",
        "##train\n",
        "history = model.fit(x_train, y_train,\n",
        "                    batch_size=512,\n",
        "                    epochs=10,\n",
        "                    validation_data= (x_val ,y_val),\n",
        "                    verbose=1,\n",
        "                    callbacks=callbacks)"
      ],
      "execution_count": 31,
      "outputs": [
        {
          "output_type": "stream",
          "text": [
            "Train on 99254 samples, validate on 24814 samples\n",
            "Epoch 1/10\n",
            "99254/99254 [==============================] - 200s 2ms/step - loss: 2.3013 - accuracy: 0.3872 - val_loss: 1.7525 - val_accuracy: 0.5086\n",
            "Epoch 2/10\n",
            "99254/99254 [==============================] - 197s 2ms/step - loss: 1.7833 - accuracy: 0.4993 - val_loss: 1.5261 - val_accuracy: 0.5596\n",
            "Epoch 3/10\n",
            "99254/99254 [==============================] - 197s 2ms/step - loss: 1.6368 - accuracy: 0.5321 - val_loss: 1.4459 - val_accuracy: 0.5810\n",
            "Epoch 4/10\n",
            "99254/99254 [==============================] - 196s 2ms/step - loss: 1.5653 - accuracy: 0.5492 - val_loss: 1.3862 - val_accuracy: 0.5924\n",
            "Epoch 5/10\n",
            "99254/99254 [==============================] - 194s 2ms/step - loss: 1.5244 - accuracy: 0.5603 - val_loss: 1.3681 - val_accuracy: 0.5955\n",
            "Epoch 6/10\n",
            "99254/99254 [==============================] - 194s 2ms/step - loss: 1.4921 - accuracy: 0.5666 - val_loss: 1.3379 - val_accuracy: 0.6031\n",
            "Epoch 7/10\n",
            "99254/99254 [==============================] - 196s 2ms/step - loss: 1.4611 - accuracy: 0.5739 - val_loss: 1.3169 - val_accuracy: 0.6086\n",
            "Epoch 8/10\n",
            "99254/99254 [==============================] - 203s 2ms/step - loss: 1.4360 - accuracy: 0.5797 - val_loss: 1.3066 - val_accuracy: 0.6118\n",
            "Epoch 9/10\n",
            "99254/99254 [==============================] - 200s 2ms/step - loss: 1.4240 - accuracy: 0.5828 - val_loss: 1.2906 - val_accuracy: 0.6145\n",
            "Epoch 10/10\n",
            "99254/99254 [==============================] - 195s 2ms/step - loss: 1.4012 - accuracy: 0.5883 - val_loss: 1.2807 - val_accuracy: 0.6189\n"
          ],
          "name": "stdout"
        }
      ]
    },
    {
      "cell_type": "code",
      "metadata": {
        "id": "sL8q5tbwYgSJ",
        "colab_type": "code",
        "colab": {
          "base_uri": "https://localhost:8080/",
          "height": 545
        },
        "outputId": "1b10cb79-7656-469f-a20c-5f33ef56dc8e"
      },
      "source": [
        "import matplotlib.pyplot as plt\n",
        "\n",
        "acc= history.history['accuracy']\n",
        "val_acc=history.history['val_accuracy']\n",
        "\n",
        "\n",
        "loss = history.history['loss']\n",
        "val_loss = history.history['val_loss']\n",
        "\n",
        "\n",
        "epochs= range(len(acc))\n",
        "\n",
        "plt.plot(epochs, acc, 'b', label='Training acc')\n",
        "plt.plot(epochs, val_acc, 'r', label='Validation acc')\n",
        "plt.title('Training and validation accuracy')\n",
        "plt.legend()\n",
        " \n",
        "plt.figure()\n",
        " \n",
        "plt.plot(epochs, loss, 'b', label='Training loss')\n",
        "plt.plot(epochs, val_loss, 'r', label='Validation loss')\n",
        "plt.title('Training and validation loss')\n",
        "plt.legend()\n",
        " \n",
        "plt.show()"
      ],
      "execution_count": 32,
      "outputs": [
        {
          "output_type": "display_data",
          "data": {
            "image/png": "[encoded data removed]",
            "text/plain": [
              "<Figure size 432x288 with 1 Axes>"
            ]
          },
          "metadata": {
            "tags": [],
            "needs_background": "light"
          }
        },
        {
          "output_type": "display_data",
          "data": {
            "image/png": "[encoded data removed]",
            "text/plain": [
              "<Figure size 432x288 with 1 Axes>"
            ]
          },
          "metadata": {
            "tags": [],
            "needs_background": "light"
          }
        }
      ]
    },
    {
      "cell_type": "code",
      "metadata": {
        "id": "SwE19rYSfNnE",
        "colab_type": "code",
        "colab": {}
      },
      "source": [
        "##### bidirectional LSTM+COV\n",
        "from keras.layers import Dropout, LSTM, Dense, Conv1D, GlobalAveragePooling1D\n"
      ],
      "execution_count": 0,
      "outputs": []
    },
    {
      "cell_type": "code",
      "metadata": {
        "id": "PuRm51Frf0C_",
        "colab_type": "code",
        "colab": {
          "base_uri": "https://localhost:8080/",
          "height": 1000
        },
        "outputId": "d0fcc69f-5a16-4e88-c738-d5f37d655fe4"
      },
      "source": [
        "model = Sequential()\n",
        "model.add(embedding_layer)\n",
        "model.add(Dropout(0.2))\n",
        "model.add(Bidirectional(LSTM(100, dropout=0.2, recurrent_dropout=0.2,return_sequences=True)))\n",
        "model.add(Conv1D(64,kernel_size=3,strides=1))\n",
        "model.add(Dropout(0.2))\n",
        "model.add(GlobalAveragePooling1D())\n",
        "model.add(Dense(30, activation='softmax'))\n",
        "\n",
        "\n",
        "model.compile(loss='categorical_crossentropy',\n",
        "              optimizer=\"adam\",\n",
        "              metrics=['accuracy'])\n",
        "\n",
        "\n",
        "\n",
        "\n",
        "##callbacks\n",
        "callbacks = [ ReduceLROnPlateau(monitor='val_loss', patience=5, cooldown=0),\n",
        "              EarlyStopping(monitor='val_acc', min_delta=1e-4, patience=5)]\n",
        "\n",
        "\n",
        "##train\n",
        "history = model.fit(x_train, y_train,\n",
        "                    batch_size=1024,\n",
        "                    epochs=10,\n",
        "                    validation_data=(x_val ,y_val),\n",
        "                    verbose=1,\n",
        "                    callbacks=callbacks)\n",
        "\n",
        "\n",
        "\n",
        "\n",
        "acc= history.history['accuracy']\n",
        "val_acc=history.history['val_accuracy']\n",
        "\n",
        "\n",
        "loss = history.history['loss']\n",
        "val_loss = history.history['val_loss']\n",
        "\n",
        "\n",
        "epochs= range(len(acc))\n",
        "\n",
        "plt.plot(epochs, acc, 'b', label='Training acc')\n",
        "plt.plot(epochs, val_acc, 'r', label='Validation acc')\n",
        "plt.title('Training and validation accuracy')\n",
        "plt.legend()\n",
        " \n",
        "plt.figure()\n",
        " \n",
        "plt.plot(epochs, loss, 'b', label='Training loss')\n",
        "plt.plot(epochs, val_loss, 'r', label='Validation loss')\n",
        "plt.title('Training and validation loss')\n",
        "plt.legend()\n",
        " \n",
        "plt.show()"
      ],
      "execution_count": 59,
      "outputs": [
        {
          "output_type": "stream",
          "text": [
            "Train on 99254 samples, validate on 24814 samples\n",
            "Epoch 1/10\n",
            "99254/99254 [==============================] - 108s 1ms/step - loss: 2.6828 - accuracy: 0.3130 - val_loss: 2.2755 - val_accuracy: 0.3875\n",
            "Epoch 2/10\n"
          ],
          "name": "stdout"
        },
        {
          "output_type": "stream",
          "text": [
            "/usr/local/lib/python3.6/dist-packages/keras/callbacks/callbacks.py:846: RuntimeWarning: Early stopping conditioned on metric `val_acc` which is not available. Available metrics are: val_loss,val_accuracy,loss,accuracy,lr\n",
            "  (self.monitor, ','.join(list(logs.keys()))), RuntimeWarning\n"
          ],
          "name": "stderr"
        },
        {
          "output_type": "stream",
          "text": [
            "99254/99254 [==============================] - 107s 1ms/step - loss: 2.1665 - accuracy: 0.4101 - val_loss: 1.9248 - val_accuracy: 0.4716\n",
            "Epoch 3/10\n",
            "99254/99254 [==============================] - 106s 1ms/step - loss: 1.8943 - accuracy: 0.4768 - val_loss: 1.7068 - val_accuracy: 0.5219\n",
            "Epoch 4/10\n",
            "99254/99254 [==============================] - 106s 1ms/step - loss: 1.7221 - accuracy: 0.5175 - val_loss: 1.5601 - val_accuracy: 0.5581\n",
            "Epoch 5/10\n",
            "99254/99254 [==============================] - 106s 1ms/step - loss: 1.6056 - accuracy: 0.5445 - val_loss: 1.4650 - val_accuracy: 0.5814\n",
            "Epoch 6/10\n",
            "99254/99254 [==============================] - 106s 1ms/step - loss: 1.5283 - accuracy: 0.5638 - val_loss: 1.4159 - val_accuracy: 0.5934\n",
            "Epoch 7/10\n",
            "99254/99254 [==============================] - 106s 1ms/step - loss: 1.4746 - accuracy: 0.5771 - val_loss: 1.3764 - val_accuracy: 0.6008\n",
            "Epoch 8/10\n",
            "99254/99254 [==============================] - 106s 1ms/step - loss: 1.4311 - accuracy: 0.5857 - val_loss: 1.3525 - val_accuracy: 0.6053\n",
            "Epoch 9/10\n",
            "99254/99254 [==============================] - 105s 1ms/step - loss: 1.3986 - accuracy: 0.5927 - val_loss: 1.3257 - val_accuracy: 0.6108\n",
            "Epoch 10/10\n",
            "99254/99254 [==============================] - 107s 1ms/step - loss: 1.3719 - accuracy: 0.5983 - val_loss: 1.3154 - val_accuracy: 0.6152\n"
          ],
          "name": "stdout"
        },
        {
          "output_type": "display_data",
          "data": {
            "image/png": "[encoded data removed]",
            "text/plain": [
              "<Figure size 432x432 with 1 Axes>"
            ]
          },
          "metadata": {
            "tags": [],
            "needs_background": "light"
          }
        },
        {
          "output_type": "display_data",
          "data": {
            "image/png": "[encoded data removed]",
            "text/plain": [
              "<Figure size 432x432 with 1 Axes>"
            ]
          },
          "metadata": {
            "tags": [],
            "needs_background": "light"
          }
        }
      ]
    },
    {
      "cell_type": "code",
      "metadata": {
        "id": "Dlznnk-Ci4dC",
        "colab_type": "code",
        "colab": {}
      },
      "source": [
        ""
      ],
      "execution_count": 0,
      "outputs": []
    },
    {
      "cell_type": "code",
      "metadata": {
        "id": "E55rFUXPX9eN",
        "colab_type": "code",
        "colab": {}
      },
      "source": [
        ""
      ],
      "execution_count": 0,
      "outputs": []
    },
    {
      "cell_type": "code",
      "metadata": {
        "id": "4otffi8ft4ls",
        "colab_type": "code",
        "colab": {}
      },
      "source": [
        ""
      ],
      "execution_count": 0,
      "outputs": []
    }
  ]
}